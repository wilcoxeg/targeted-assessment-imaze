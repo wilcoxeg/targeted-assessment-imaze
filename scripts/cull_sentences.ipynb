{
 "cells": [
  {
   "cell_type": "code",
   "execution_count": 25,
   "metadata": {},
   "outputs": [],
   "source": [
    "import pandas as pd\n",
    "import numpy as np"
   ]
  },
  {
   "cell_type": "code",
   "execution_count": 36,
   "metadata": {},
   "outputs": [
    {
     "name": "stdout",
     "output_type": "stream",
     "text": [
      "['\\nThe company supplies were all gone . <eos>', \"\\nThe company 's supplies were all gone . <eos>\", '\\nThe company supplies the services we need . <eos>', '\\nThe company supplied the services we need . <eos>', '\\nNo author that the senators liked has ever been popular . <eos>', '\\nNo author that no senators liked has ever been popular . <eos>', '\\nThe author that the senators liked has ever been popular . <eos>', '\\nThe author that no senators liked has ever been popular . <eos>', '\\nNo pilot that the consultants met has ever been famous . <eos>', '\\nNo pilot that no consultants met has ever been famous . <eos>']\n"
     ]
    }
   ],
   "source": [
    "df = pd.read_csv(\"../data/model_surprisals.csv\")\n",
    "\n",
    "#df['token'] = [\"\\n\"+x if df['word_number'].equals(str(0)) else x for x in df['token']]\n",
    "\n",
    "df['token'] = np.where(df['word_number'] == 0, \"\\n\" + df['token'], df['token'])\n",
    "sents = \" \".join(df[\"token\"]).split(\"\\n\")\n",
    "sents = [x for x in sents if len(x) > 0]\n",
    "sents = [\"\\n\"+x+\". <eos>\" for x in sents]\n",
    "\n",
    "with open(\"../data/sents.txt\", \"w\") as outf:\n",
    "    outf.writelines(sents)\n",
    "\n",
    "print(sents[:10])\n"
   ]
  },
  {
   "cell_type": "code",
   "execution_count": null,
   "metadata": {},
   "outputs": [],
   "source": []
  }
 ],
 "metadata": {
  "kernelspec": {
   "display_name": "Python 3",
   "language": "python",
   "name": "python3"
  },
  "language_info": {
   "codemirror_mode": {
    "name": "ipython",
    "version": 3
   },
   "file_extension": ".py",
   "mimetype": "text/x-python",
   "name": "python",
   "nbconvert_exporter": "python",
   "pygments_lexer": "ipython3",
   "version": "3.6.8"
  }
 },
 "nbformat": 4,
 "nbformat_minor": 2
}
